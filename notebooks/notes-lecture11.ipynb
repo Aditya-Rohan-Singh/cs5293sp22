{
 "cells": [
  {
   "cell_type": "raw",
   "id": "ac2e2281-48c7-4f49-96f4-fa5dad129f11",
   "metadata": {},
   "source": [
    "anything"
   ]
  },
  {
   "cell_type": "markdown",
   "id": "2344d38e-8477-4f85-affb-e1778995dcb0",
   "metadata": {},
   "source": [
    "# Lecture 11\n",
    "## Numpy\n",
    "\n",
    "This is for lecture 11"
   ]
  },
  {
   "cell_type": "code",
   "execution_count": 1,
   "id": "fd33d3e8-f7cc-4d6e-a0ff-538fee0b19c5",
   "metadata": {},
   "outputs": [],
   "source": [
    "# code cell\n",
    "a =10"
   ]
  },
  {
   "cell_type": "code",
   "execution_count": 2,
   "id": "7c081b43-ce2a-451b-b5b4-57e6befee572",
   "metadata": {},
   "outputs": [
    {
     "name": "stdout",
     "output_type": "stream",
     "text": [
      "Pipfile  Pipfile.lock  Untitled.ipynb  lab  testing.ipynb\n"
     ]
    }
   ],
   "source": [
    "!ls"
   ]
  },
  {
   "cell_type": "code",
   "execution_count": 3,
   "id": "7d428bc1-d7f8-42bb-9c7c-c22dc7a2dbe5",
   "metadata": {},
   "outputs": [
    {
     "name": "stdout",
     "output_type": "stream",
     "text": [
      "/home/dehartjazmyne/scratch\n"
     ]
    }
   ],
   "source": [
    "!pwd"
   ]
  },
  {
   "cell_type": "code",
   "execution_count": 5,
   "id": "73463552-10b2-462f-b981-5f10758803ee",
   "metadata": {},
   "outputs": [
    {
     "name": "stdout",
     "output_type": "stream",
     "text": [
      "Pipfile\n",
      "Pipfile.lock\n",
      "Untitled.ipynb\n",
      "lab\n",
      "testing.ipynb\n"
     ]
    }
   ],
   "source": [
    "%%bash\n",
    "ls"
   ]
  },
  {
   "cell_type": "code",
   "execution_count": 6,
   "id": "245d1d79-9ce5-4051-a709-eb83c2144ed2",
   "metadata": {},
   "outputs": [
    {
     "name": "stdout",
     "output_type": "stream",
     "text": [
      "Pipfile  Pipfile.lock  Untitled.ipynb  lab  testing.ipynb\n"
     ]
    }
   ],
   "source": [
    "%ls"
   ]
  },
  {
   "cell_type": "code",
   "execution_count": 7,
   "id": "04138822-befb-459a-b078-2b866133dfe2",
   "metadata": {},
   "outputs": [],
   "source": [
    "import numpy as np"
   ]
  },
  {
   "cell_type": "code",
   "execution_count": 8,
   "id": "357f2e26-c998-4011-bfd6-be721e5c6252",
   "metadata": {
    "scrolled": true,
    "tags": []
   },
   "outputs": [
    {
     "data": {
      "text/plain": [
       "\u001b[0;31mType:\u001b[0m        module\n",
       "\u001b[0;31mString form:\u001b[0m <module 'numpy.random' from '/home/dehartjazmyne/.local/share/virtualenvs/scratch-upn2B7h3/lib/python3.9/site-packages/numpy/random/__init__.py'>\n",
       "\u001b[0;31mFile:\u001b[0m        ~/.local/share/virtualenvs/scratch-upn2B7h3/lib/python3.9/site-packages/numpy/random/__init__.py\n",
       "\u001b[0;31mDocstring:\u001b[0m  \n",
       "========================\n",
       "Random Number Generation\n",
       "========================\n",
       "\n",
       "Use ``default_rng()`` to create a `Generator` and call its methods.\n",
       "\n",
       "=============== =========================================================\n",
       "Generator\n",
       "--------------- ---------------------------------------------------------\n",
       "Generator       Class implementing all of the random number distributions\n",
       "default_rng     Default constructor for ``Generator``\n",
       "=============== =========================================================\n",
       "\n",
       "============================================= ===\n",
       "BitGenerator Streams that work with Generator\n",
       "--------------------------------------------- ---\n",
       "MT19937\n",
       "PCG64\n",
       "PCG64DXSM\n",
       "Philox\n",
       "SFC64\n",
       "============================================= ===\n",
       "\n",
       "============================================= ===\n",
       "Getting entropy to initialize a BitGenerator\n",
       "--------------------------------------------- ---\n",
       "SeedSequence\n",
       "============================================= ===\n",
       "\n",
       "\n",
       "Legacy\n",
       "------\n",
       "\n",
       "For backwards compatibility with previous versions of numpy before 1.17, the\n",
       "various aliases to the global `RandomState` methods are left alone and do not\n",
       "use the new `Generator` API.\n",
       "\n",
       "==================== =========================================================\n",
       "Utility functions\n",
       "-------------------- ---------------------------------------------------------\n",
       "random               Uniformly distributed floats over ``[0, 1)``\n",
       "bytes                Uniformly distributed random bytes.\n",
       "permutation          Randomly permute a sequence / generate a random sequence.\n",
       "shuffle              Randomly permute a sequence in place.\n",
       "choice               Random sample from 1-D array.\n",
       "==================== =========================================================\n",
       "\n",
       "==================== =========================================================\n",
       "Compatibility\n",
       "functions - removed\n",
       "in the new API\n",
       "-------------------- ---------------------------------------------------------\n",
       "rand                 Uniformly distributed values.\n",
       "randn                Normally distributed values.\n",
       "ranf                 Uniformly distributed floating point numbers.\n",
       "random_integers      Uniformly distributed integers in a given range.\n",
       "                     (deprecated, use ``integers(..., closed=True)`` instead)\n",
       "random_sample        Alias for `random_sample`\n",
       "randint              Uniformly distributed integers in a given range\n",
       "seed                 Seed the legacy random number generator.\n",
       "==================== =========================================================\n",
       "\n",
       "==================== =========================================================\n",
       "Univariate\n",
       "distributions\n",
       "-------------------- ---------------------------------------------------------\n",
       "beta                 Beta distribution over ``[0, 1]``.\n",
       "binomial             Binomial distribution.\n",
       "chisquare            :math:`\\chi^2` distribution.\n",
       "exponential          Exponential distribution.\n",
       "f                    F (Fisher-Snedecor) distribution.\n",
       "gamma                Gamma distribution.\n",
       "geometric            Geometric distribution.\n",
       "gumbel               Gumbel distribution.\n",
       "hypergeometric       Hypergeometric distribution.\n",
       "laplace              Laplace distribution.\n",
       "logistic             Logistic distribution.\n",
       "lognormal            Log-normal distribution.\n",
       "logseries            Logarithmic series distribution.\n",
       "negative_binomial    Negative binomial distribution.\n",
       "noncentral_chisquare Non-central chi-square distribution.\n",
       "noncentral_f         Non-central F distribution.\n",
       "normal               Normal / Gaussian distribution.\n",
       "pareto               Pareto distribution.\n",
       "poisson              Poisson distribution.\n",
       "power                Power distribution.\n",
       "rayleigh             Rayleigh distribution.\n",
       "triangular           Triangular distribution.\n",
       "uniform              Uniform distribution.\n",
       "vonmises             Von Mises circular distribution.\n",
       "wald                 Wald (inverse Gaussian) distribution.\n",
       "weibull              Weibull distribution.\n",
       "zipf                 Zipf's distribution over ranked data.\n",
       "==================== =========================================================\n",
       "\n",
       "==================== ==========================================================\n",
       "Multivariate\n",
       "distributions\n",
       "-------------------- ----------------------------------------------------------\n",
       "dirichlet            Multivariate generalization of Beta distribution.\n",
       "multinomial          Multivariate generalization of the binomial distribution.\n",
       "multivariate_normal  Multivariate generalization of the normal distribution.\n",
       "==================== ==========================================================\n",
       "\n",
       "==================== =========================================================\n",
       "Standard\n",
       "distributions\n",
       "-------------------- ---------------------------------------------------------\n",
       "standard_cauchy      Standard Cauchy-Lorentz distribution.\n",
       "standard_exponential Standard exponential distribution.\n",
       "standard_gamma       Standard Gamma distribution.\n",
       "standard_normal      Standard normal distribution.\n",
       "standard_t           Standard Student's t-distribution.\n",
       "==================== =========================================================\n",
       "\n",
       "==================== =========================================================\n",
       "Internal functions\n",
       "-------------------- ---------------------------------------------------------\n",
       "get_state            Get tuple representing internal state of generator.\n",
       "set_state            Set state of generator.\n",
       "==================== =========================================================\n"
      ]
     },
     "metadata": {},
     "output_type": "display_data"
    }
   ],
   "source": [
    "np.random?"
   ]
  },
  {
   "cell_type": "code",
   "execution_count": 9,
   "id": "2de7a2c0-b523-4b8a-9655-3ae5f4b92a78",
   "metadata": {},
   "outputs": [
    {
     "data": {
      "text/plain": [
       "array([ 0.65087742, -0.23279482, -0.78540785,  0.86659098, -0.22102822,\n",
       "       -0.66177413, -0.69371172, -0.59496441, -1.01492901, -0.37160459])"
      ]
     },
     "execution_count": 9,
     "metadata": {},
     "output_type": "execute_result"
    }
   ],
   "source": [
    "np.random.randn(10)"
   ]
  },
  {
   "cell_type": "markdown",
   "id": "115f0d6f-ec5a-45c9-af51-196ef77f877b",
   "metadata": {},
   "source": [
    "## Numpy Lecture"
   ]
  },
  {
   "cell_type": "code",
   "execution_count": 10,
   "id": "bf7c704d-3c9b-4723-ba1e-e171de0feaf9",
   "metadata": {},
   "outputs": [],
   "source": [
    "data= np.random.randn(15,5)"
   ]
  },
  {
   "cell_type": "code",
   "execution_count": 11,
   "id": "9563a7a4-8ad2-4265-83a3-d9a1bddad998",
   "metadata": {},
   "outputs": [
    {
     "data": {
      "text/plain": [
       "array([[-0.94568777, -1.57267913, -0.64242803, -0.66067738,  0.6168204 ],\n",
       "       [ 1.37671569, -0.29991385, -1.23293959, -0.5872279 , -0.55226121],\n",
       "       [-0.78612197, -0.29873037, -0.77664568,  0.08780184, -0.84858124],\n",
       "       [-0.51970924,  0.11032274,  1.47342162, -0.4749576 ,  2.05547485],\n",
       "       [-0.25624994,  1.64381502, -0.76385714,  1.33895797,  1.96318951],\n",
       "       [-0.67889379,  0.68985953, -1.00634779,  1.08529161,  0.5234017 ],\n",
       "       [ 0.35428391, -1.31441946,  0.4820095 , -0.07499663,  1.28442838],\n",
       "       [-0.88864095, -0.6895595 , -0.46739338,  0.36593795,  0.36813044],\n",
       "       [-0.52346022,  0.17094914,  1.16500377,  0.97729988, -0.24713951],\n",
       "       [-0.96703089, -0.25014777,  2.01449814,  1.23027985,  0.19327808],\n",
       "       [-0.75652203,  0.51646229, -0.17495281,  1.29353591,  0.30980155],\n",
       "       [ 1.27250358,  0.79653189,  0.06774814,  1.09402627,  0.94115246],\n",
       "       [ 0.31681767, -1.17107389,  0.17757991, -1.57834267,  0.9645244 ],\n",
       "       [-0.26388662, -0.10570693, -0.11160717,  0.14998014,  0.7281596 ],\n",
       "       [-3.05708149, -0.72109807, -2.13622128, -0.77857395, -0.2980377 ]])"
      ]
     },
     "execution_count": 11,
     "metadata": {},
     "output_type": "execute_result"
    }
   ],
   "source": [
    "data"
   ]
  },
  {
   "cell_type": "code",
   "execution_count": 12,
   "id": "23532f56-c260-4fe3-a3af-b6c948367380",
   "metadata": {},
   "outputs": [
    {
     "data": {
      "text/plain": [
       "(15, 5)"
      ]
     },
     "execution_count": 12,
     "metadata": {},
     "output_type": "execute_result"
    }
   ],
   "source": [
    "data.shape"
   ]
  },
  {
   "cell_type": "code",
   "execution_count": 13,
   "id": "4bc02e3d-7e28-4307-89a4-14498356c298",
   "metadata": {},
   "outputs": [
    {
     "data": {
      "text/plain": [
       "dtype('float64')"
      ]
     },
     "execution_count": 13,
     "metadata": {},
     "output_type": "execute_result"
    }
   ],
   "source": [
    "data.dtype"
   ]
  },
  {
   "cell_type": "code",
   "execution_count": 14,
   "id": "24ebd569-b208-4287-9d66-0ba8a2f36996",
   "metadata": {},
   "outputs": [
    {
     "data": {
      "text/plain": [
       "array([[0., 0., 0., 0., 0.],\n",
       "       [0., 0., 0., 0., 0.],\n",
       "       [0., 0., 0., 0., 0.],\n",
       "       [0., 0., 0., 0., 0.],\n",
       "       [0., 0., 0., 0., 0.],\n",
       "       [0., 0., 0., 0., 0.],\n",
       "       [0., 0., 0., 0., 0.],\n",
       "       [0., 0., 0., 0., 0.],\n",
       "       [0., 0., 0., 0., 0.],\n",
       "       [0., 0., 0., 0., 0.],\n",
       "       [0., 0., 0., 0., 0.],\n",
       "       [0., 0., 0., 0., 0.],\n",
       "       [0., 0., 0., 0., 0.],\n",
       "       [0., 0., 0., 0., 0.],\n",
       "       [0., 0., 0., 0., 0.]])"
      ]
     },
     "execution_count": 14,
     "metadata": {},
     "output_type": "execute_result"
    }
   ],
   "source": [
    "np.zeros((15,5))"
   ]
  },
  {
   "cell_type": "code",
   "execution_count": 15,
   "id": "020fbbcd-13af-4a9f-a77b-66519808b78b",
   "metadata": {},
   "outputs": [
    {
     "data": {
      "text/plain": [
       "array([[1., 1., 1., 1., 1.],\n",
       "       [1., 1., 1., 1., 1.],\n",
       "       [1., 1., 1., 1., 1.],\n",
       "       [1., 1., 1., 1., 1.],\n",
       "       [1., 1., 1., 1., 1.],\n",
       "       [1., 1., 1., 1., 1.],\n",
       "       [1., 1., 1., 1., 1.],\n",
       "       [1., 1., 1., 1., 1.],\n",
       "       [1., 1., 1., 1., 1.],\n",
       "       [1., 1., 1., 1., 1.],\n",
       "       [1., 1., 1., 1., 1.],\n",
       "       [1., 1., 1., 1., 1.],\n",
       "       [1., 1., 1., 1., 1.],\n",
       "       [1., 1., 1., 1., 1.],\n",
       "       [1., 1., 1., 1., 1.]])"
      ]
     },
     "execution_count": 15,
     "metadata": {},
     "output_type": "execute_result"
    }
   ],
   "source": [
    "np.ones((15,5))"
   ]
  },
  {
   "cell_type": "code",
   "execution_count": 16,
   "id": "5bd484fe-18c0-4950-8f82-47d6db76908a",
   "metadata": {},
   "outputs": [
    {
     "data": {
      "text/plain": [
       "array([ 0,  1,  2,  3,  4,  5,  6,  7,  8,  9, 10, 11, 12, 13, 14])"
      ]
     },
     "execution_count": 16,
     "metadata": {},
     "output_type": "execute_result"
    }
   ],
   "source": [
    "np.arange(15)"
   ]
  },
  {
   "cell_type": "code",
   "execution_count": 17,
   "id": "8fde8d3e-09ec-4384-ac8b-8ab442bf2bdb",
   "metadata": {},
   "outputs": [
    {
     "data": {
      "text/plain": [
       "(array([ 1,  3,  3,  4,  4,  4,  5,  6,  8,  9,  9, 10, 11, 11]),\n",
       " array([0, 2, 4, 1, 3, 4, 3, 4, 2, 2, 3, 3, 0, 3]))"
      ]
     },
     "execution_count": 17,
     "metadata": {},
     "output_type": "execute_result"
    }
   ],
   "source": [
    "np.where(data>1)"
   ]
  },
  {
   "cell_type": "code",
   "execution_count": 18,
   "id": "5c38e6ae-4ad4-4325-bc12-defefc8ec9ef",
   "metadata": {},
   "outputs": [
    {
     "data": {
      "text/plain": [
       "array([[-0.94568777, -1.57267913, -0.64242803, -0.66067738,  0.6168204 ],\n",
       "       [ 1.37671569, -0.29991385, -1.23293959, -0.5872279 , -0.55226121],\n",
       "       [-0.78612197, -0.29873037, -0.77664568,  0.08780184, -0.84858124],\n",
       "       [-0.51970924,  0.11032274,  1.47342162, -0.4749576 ,  2.05547485],\n",
       "       [-0.25624994,  1.64381502, -0.76385714,  1.33895797,  1.96318951],\n",
       "       [-0.67889379,  0.68985953, -1.00634779,  1.08529161,  0.5234017 ],\n",
       "       [ 0.35428391, -1.31441946,  0.4820095 , -0.07499663,  1.28442838],\n",
       "       [-0.88864095, -0.6895595 , -0.46739338,  0.36593795,  0.36813044],\n",
       "       [-0.52346022,  0.17094914,  1.16500377,  0.97729988, -0.24713951],\n",
       "       [-0.96703089, -0.25014777,  2.01449814,  1.23027985,  0.19327808],\n",
       "       [-0.75652203,  0.51646229, -0.17495281,  1.29353591,  0.30980155],\n",
       "       [ 1.27250358,  0.79653189,  0.06774814,  1.09402627,  0.94115246],\n",
       "       [ 0.31681767, -1.17107389,  0.17757991, -1.57834267,  0.9645244 ],\n",
       "       [-0.26388662, -0.10570693, -0.11160717,  0.14998014,  0.7281596 ],\n",
       "       [-3.05708149, -0.72109807, -2.13622128, -0.77857395, -0.2980377 ]])"
      ]
     },
     "execution_count": 18,
     "metadata": {},
     "output_type": "execute_result"
    }
   ],
   "source": [
    "data"
   ]
  },
  {
   "cell_type": "code",
   "execution_count": 19,
   "id": "6f057490-7f23-4d47-bd4c-ee63194650c2",
   "metadata": {},
   "outputs": [
    {
     "data": {
      "text/plain": [
       "array([[-1.        , -1.        , -1.        , -1.        , -1.        ],\n",
       "       [ 1.37671569, -1.        , -1.        , -1.        , -1.        ],\n",
       "       [-1.        , -1.        , -1.        , -1.        , -1.        ],\n",
       "       [-1.        , -1.        ,  1.47342162, -1.        ,  2.05547485],\n",
       "       [-1.        ,  1.64381502, -1.        ,  1.33895797,  1.96318951],\n",
       "       [-1.        , -1.        , -1.        ,  1.08529161, -1.        ],\n",
       "       [-1.        , -1.        , -1.        , -1.        ,  1.28442838],\n",
       "       [-1.        , -1.        , -1.        , -1.        , -1.        ],\n",
       "       [-1.        , -1.        ,  1.16500377, -1.        , -1.        ],\n",
       "       [-1.        , -1.        ,  2.01449814,  1.23027985, -1.        ],\n",
       "       [-1.        , -1.        , -1.        ,  1.29353591, -1.        ],\n",
       "       [ 1.27250358, -1.        , -1.        ,  1.09402627, -1.        ],\n",
       "       [-1.        , -1.        , -1.        , -1.        , -1.        ],\n",
       "       [-1.        , -1.        , -1.        , -1.        , -1.        ],\n",
       "       [-1.        , -1.        , -1.        , -1.        , -1.        ]])"
      ]
     },
     "execution_count": 19,
     "metadata": {},
     "output_type": "execute_result"
    }
   ],
   "source": [
    "np.where(data<1, -1, data)"
   ]
  },
  {
   "cell_type": "code",
   "execution_count": 20,
   "id": "002eac32-7d2e-4efb-8362-6f63d5666863",
   "metadata": {},
   "outputs": [
    {
     "data": {
      "text/plain": [
       "array([[ -9.4568777 , -15.72679128,  -6.42428034,  -6.60677383,\n",
       "          6.16820403],\n",
       "       [  1.37671569,  -2.9991385 , -12.32939594,  -5.87227897,\n",
       "         -5.52261208],\n",
       "       [ -7.86121975,  -2.98730372,  -7.7664568 ,   0.87801841,\n",
       "         -8.48581243],\n",
       "       [ -5.19709241,   1.10322742,   1.47342162,  -4.74957598,\n",
       "          2.05547485],\n",
       "       [ -2.56249944,   1.64381502,  -7.63857138,   1.33895797,\n",
       "          1.96318951],\n",
       "       [ -6.78893788,   6.89859534, -10.06347789,   1.08529161,\n",
       "          5.23401699],\n",
       "       [  3.54283909, -13.14419461,   4.82009502,  -0.74996626,\n",
       "          1.28442838],\n",
       "       [ -8.8864095 ,  -6.89559501,  -4.67393383,   3.65937953,\n",
       "          3.6813044 ],\n",
       "       [ -5.23460219,   1.70949144,   1.16500377,   9.77299882,\n",
       "         -2.47139514],\n",
       "       [ -9.6703089 ,  -2.50147768,   2.01449814,   1.23027985,\n",
       "          1.93278082],\n",
       "       [ -7.56522032,   5.16462289,  -1.74952805,   1.29353591,\n",
       "          3.0980155 ],\n",
       "       [  1.27250358,   7.96531892,   0.6774814 ,   1.09402627,\n",
       "          9.41152463],\n",
       "       [  3.16817672, -11.71073889,   1.77579907, -15.78342674,\n",
       "          9.64524403],\n",
       "       [ -2.63886625,  -1.0570693 ,  -1.1160717 ,   1.49980138,\n",
       "          7.281596  ],\n",
       "       [-30.57081489,  -7.21098067, -21.36221283,  -7.7857395 ,\n",
       "         -2.98037696]])"
      ]
     },
     "execution_count": 20,
     "metadata": {},
     "output_type": "execute_result"
    }
   ],
   "source": [
    "np.where(data<1, data*10, data)"
   ]
  },
  {
   "cell_type": "code",
   "execution_count": 21,
   "id": "93d80652-071b-436b-946a-0ac0728f4723",
   "metadata": {},
   "outputs": [
    {
     "data": {
      "text/plain": [
       "array([8, 3, 9, 2, 1, 2, 6, 8, 9, 1])"
      ]
     },
     "execution_count": 21,
     "metadata": {},
     "output_type": "execute_result"
    }
   ],
   "source": [
    "bday_months=[8, 3, 9, 2, 1, 2, 6, 8, 9, 1]\n",
    "bday_arr = np.array(bday_months)\n",
    "bday_arr"
   ]
  },
  {
   "cell_type": "code",
   "execution_count": 22,
   "id": "f496416b-9650-41dd-bd9a-969c4c710cba",
   "metadata": {},
   "outputs": [
    {
     "data": {
      "text/plain": [
       "array([1, 2, 3, 6, 8, 9])"
      ]
     },
     "execution_count": 22,
     "metadata": {},
     "output_type": "execute_result"
    }
   ],
   "source": [
    "np.unique(bday_arr)"
   ]
  },
  {
   "cell_type": "code",
   "execution_count": 23,
   "id": "f7c52471-c0f3-4827-a9d6-e788979382ea",
   "metadata": {},
   "outputs": [
    {
     "data": {
      "text/plain": [
       "(array([1, 2, 3, 6, 8, 9]), array([2, 2, 1, 1, 2, 2]))"
      ]
     },
     "execution_count": 23,
     "metadata": {},
     "output_type": "execute_result"
    }
   ],
   "source": [
    "np.unique(bday_arr, return_counts=True)"
   ]
  },
  {
   "cell_type": "code",
   "execution_count": 24,
   "id": "dc53c7f7-2055-414f-8cb9-2f3e27b16350",
   "metadata": {},
   "outputs": [
    {
     "data": {
      "text/plain": [
       "(array([1, 2, 3, 6, 8, 9]), array([4, 3, 1, 6, 0, 2]))"
      ]
     },
     "execution_count": 24,
     "metadata": {},
     "output_type": "execute_result"
    }
   ],
   "source": [
    "np.unique(bday_arr, return_index=True)"
   ]
  },
  {
   "cell_type": "code",
   "execution_count": 25,
   "id": "cded7a5f-eca6-4738-a993-643c4fa51b44",
   "metadata": {},
   "outputs": [
    {
     "data": {
      "text/plain": [
       "array([1, 1, 2, 2, 3, 6, 8, 8, 9, 9])"
      ]
     },
     "execution_count": 25,
     "metadata": {},
     "output_type": "execute_result"
    }
   ],
   "source": [
    "bday_arr.sort()\n",
    "bday_arr"
   ]
  },
  {
   "cell_type": "markdown",
   "id": "ee45da64-d368-4d7e-ba0e-372ec7a7b02a",
   "metadata": {},
   "source": [
    "### Slicing and Indexing"
   ]
  },
  {
   "cell_type": "code",
   "execution_count": 26,
   "id": "130d91e7-855a-4419-8406-f46ba06c2287",
   "metadata": {},
   "outputs": [],
   "source": [
    "dim1 = np.arange(10)"
   ]
  },
  {
   "cell_type": "code",
   "execution_count": 27,
   "id": "f2d17087-004b-4918-8925-daaaba1ea0b2",
   "metadata": {},
   "outputs": [],
   "source": [
    "dim2 = np.random.randn(10,2)"
   ]
  },
  {
   "cell_type": "code",
   "execution_count": 28,
   "id": "d07a4d2c-88a5-4035-8250-739725344500",
   "metadata": {},
   "outputs": [],
   "source": [
    "dim3 = np.random.randint(20, size=(2,4,6))"
   ]
  },
  {
   "cell_type": "code",
   "execution_count": 29,
   "id": "3dfa1837-5ebe-4d55-9bc5-2908bf6316f6",
   "metadata": {},
   "outputs": [
    {
     "data": {
      "text/plain": [
       "array([0, 1, 2, 3, 4, 5, 6, 7, 8, 9])"
      ]
     },
     "execution_count": 29,
     "metadata": {},
     "output_type": "execute_result"
    }
   ],
   "source": [
    "dim1"
   ]
  },
  {
   "cell_type": "code",
   "execution_count": 30,
   "id": "58d3bffb-8c8d-48f4-9a29-5c26b3719a0e",
   "metadata": {},
   "outputs": [
    {
     "name": "stdout",
     "output_type": "stream",
     "text": [
      "[[-1.4818627  -1.26417969]\n",
      " [ 0.2673656   0.47665411]\n",
      " [-0.6581551  -0.05263421]\n",
      " [ 1.01352104 -0.45476746]\n",
      " [-1.22648203  1.27502983]\n",
      " [-1.24417308 -1.02006326]\n",
      " [-0.25602001 -0.71001065]\n",
      " [-0.59926419 -0.40874631]\n",
      " [-0.29313652  1.28977068]\n",
      " [ 0.10826541  0.90000627]]\n"
     ]
    }
   ],
   "source": [
    "print(dim2)"
   ]
  },
  {
   "cell_type": "code",
   "execution_count": 31,
   "id": "fed35c52-4d0f-45a4-b1bc-fa6b26437a93",
   "metadata": {},
   "outputs": [
    {
     "data": {
      "text/plain": [
       "array([[[ 4, 18, 11,  5, 17,  8],\n",
       "        [ 4, 13,  1, 12,  6, 11],\n",
       "        [ 3, 17, 14, 12,  6,  4],\n",
       "        [ 2,  7, 17, 10,  7, 12]],\n",
       "\n",
       "       [[ 0, 12,  1, 12,  2,  8],\n",
       "        [ 2, 13,  0, 15, 14, 10],\n",
       "        [18, 15,  9, 16,  6,  6],\n",
       "        [ 6, 14,  1, 10, 15,  1]]])"
      ]
     },
     "execution_count": 31,
     "metadata": {},
     "output_type": "execute_result"
    }
   ],
   "source": [
    "dim3"
   ]
  },
  {
   "cell_type": "code",
   "execution_count": 32,
   "id": "e210cdf3-e01d-430b-b513-ed0031907938",
   "metadata": {},
   "outputs": [
    {
     "data": {
      "text/plain": [
       "3"
      ]
     },
     "execution_count": 32,
     "metadata": {},
     "output_type": "execute_result"
    }
   ],
   "source": [
    "dim1[3]"
   ]
  },
  {
   "cell_type": "code",
   "execution_count": 33,
   "id": "f886a825-4849-43ff-ae17-4001abf71651",
   "metadata": {},
   "outputs": [
    {
     "data": {
      "text/plain": [
       "-1.2641796850397231"
      ]
     },
     "execution_count": 33,
     "metadata": {},
     "output_type": "execute_result"
    }
   ],
   "source": [
    "dim2[0,1]"
   ]
  },
  {
   "cell_type": "code",
   "execution_count": 34,
   "id": "c62892c5-1537-4971-9ee4-98f285f4833f",
   "metadata": {},
   "outputs": [
    {
     "data": {
      "text/plain": [
       "6"
      ]
     },
     "execution_count": 34,
     "metadata": {},
     "output_type": "execute_result"
    }
   ],
   "source": [
    "dim3[0, 2, 4]"
   ]
  },
  {
   "cell_type": "code",
   "execution_count": 35,
   "id": "bb61a082-e4ff-4529-9eee-a5bd20d88402",
   "metadata": {},
   "outputs": [
    {
     "data": {
      "text/plain": [
       "array([2, 3, 4, 5, 6])"
      ]
     },
     "execution_count": 35,
     "metadata": {},
     "output_type": "execute_result"
    }
   ],
   "source": [
    "dim1[2:7]"
   ]
  },
  {
   "cell_type": "code",
   "execution_count": 36,
   "id": "a69498c4-0b7b-41c9-a984-8249f99477f6",
   "metadata": {},
   "outputs": [
    {
     "data": {
      "text/plain": [
       "array([5, 6, 7, 8, 9])"
      ]
     },
     "execution_count": 36,
     "metadata": {},
     "output_type": "execute_result"
    }
   ],
   "source": [
    "dim1[5:]"
   ]
  },
  {
   "cell_type": "code",
   "execution_count": 37,
   "id": "ef32bff8-523a-49a7-85af-349fd665f76e",
   "metadata": {},
   "outputs": [
    {
     "data": {
      "text/plain": [
       "array([-1.26417969,  0.47665411, -0.05263421, -0.45476746,  1.27502983,\n",
       "       -1.02006326, -0.71001065, -0.40874631,  1.28977068,  0.90000627])"
      ]
     },
     "execution_count": 37,
     "metadata": {},
     "output_type": "execute_result"
    }
   ],
   "source": [
    "dim2[:, 1]"
   ]
  },
  {
   "cell_type": "code",
   "execution_count": 38,
   "id": "d7d5ebb8-eabf-4b88-9966-e577bf2cb7e2",
   "metadata": {},
   "outputs": [
    {
     "data": {
      "text/plain": [
       "array([1, 0, 9, 1])"
      ]
     },
     "execution_count": 38,
     "metadata": {},
     "output_type": "execute_result"
    }
   ],
   "source": [
    "dim3[1, :, 2]"
   ]
  },
  {
   "cell_type": "code",
   "execution_count": 40,
   "id": "42c2fa07-c448-4d85-857a-43a5adecc81f",
   "metadata": {},
   "outputs": [
    {
     "data": {
      "text/plain": [
       "7"
      ]
     },
     "execution_count": 40,
     "metadata": {},
     "output_type": "execute_result"
    }
   ],
   "source": [
    "dim1[-3]"
   ]
  },
  {
   "cell_type": "code",
   "execution_count": 41,
   "id": "8640ecab-bb86-432a-84f0-52d03886ec56",
   "metadata": {},
   "outputs": [
    {
     "data": {
      "text/plain": [
       "-1.4818627003882832"
      ]
     },
     "execution_count": 41,
     "metadata": {},
     "output_type": "execute_result"
    }
   ],
   "source": [
    "dim2[0, -2]"
   ]
  },
  {
   "cell_type": "code",
   "execution_count": 42,
   "id": "07b0e308-adcd-47f6-9703-01e690c847ba",
   "metadata": {},
   "outputs": [
    {
     "data": {
      "text/plain": [
       "array([5, 6, 7])"
      ]
     },
     "execution_count": 42,
     "metadata": {},
     "output_type": "execute_result"
    }
   ],
   "source": [
    "dim1[5:8].copy()"
   ]
  },
  {
   "cell_type": "code",
   "execution_count": 43,
   "id": "c564dc35-d333-477c-8835-861c159d0e80",
   "metadata": {},
   "outputs": [
    {
     "data": {
      "text/plain": [
       "array([5, 6, 7])"
      ]
     },
     "execution_count": 43,
     "metadata": {},
     "output_type": "execute_result"
    }
   ],
   "source": [
    "dim = dim1[5:8]\n",
    "dim"
   ]
  },
  {
   "cell_type": "code",
   "execution_count": 44,
   "id": "28fe8911-9ef0-437c-ac63-ac0f6d09dc9a",
   "metadata": {},
   "outputs": [
    {
     "data": {
      "text/plain": [
       "array([False,  True, False, False, False, False, False, False, False,\n",
       "       False])"
      ]
     },
     "execution_count": 44,
     "metadata": {},
     "output_type": "execute_result"
    }
   ],
   "source": [
    "dim1 == 1"
   ]
  },
  {
   "cell_type": "code",
   "execution_count": 45,
   "id": "2c545170-4ca1-46df-8c2d-19ea9e179902",
   "metadata": {},
   "outputs": [
    {
     "data": {
      "text/plain": [
       "array([[0, 1, 2, 3, 4],\n",
       "       [5, 6, 7, 8, 9]])"
      ]
     },
     "execution_count": 45,
     "metadata": {},
     "output_type": "execute_result"
    }
   ],
   "source": [
    "dim1.reshape(2, 5)"
   ]
  },
  {
   "cell_type": "code",
   "execution_count": 46,
   "id": "13277801-97f0-4506-bf2a-1bba6e107fb2",
   "metadata": {},
   "outputs": [
    {
     "data": {
      "text/plain": [
       "array([[-1.4818627 ,  0.2673656 , -0.6581551 ,  1.01352104, -1.22648203,\n",
       "        -1.24417308, -0.25602001, -0.59926419, -0.29313652,  0.10826541],\n",
       "       [-1.26417969,  0.47665411, -0.05263421, -0.45476746,  1.27502983,\n",
       "        -1.02006326, -0.71001065, -0.40874631,  1.28977068,  0.90000627]])"
      ]
     },
     "execution_count": 46,
     "metadata": {},
     "output_type": "execute_result"
    }
   ],
   "source": [
    "dim2.T"
   ]
  },
  {
   "cell_type": "markdown",
   "id": "ba70105c-7c98-40a8-a6aa-581367320868",
   "metadata": {},
   "source": [
    "## Math"
   ]
  },
  {
   "cell_type": "code",
   "execution_count": 47,
   "id": "c9e2f7af-01af-498d-bb38-bdc36bbbf8c5",
   "metadata": {},
   "outputs": [],
   "source": [
    "mat1 = np.random.randint(1000, size=(1000, 1000))\n",
    "mat2 = np.random.randint(1000, size=(1000, 1000))"
   ]
  },
  {
   "cell_type": "code",
   "execution_count": 48,
   "id": "e0d022ea-85c1-4c92-b7ce-198ab784f1aa",
   "metadata": {},
   "outputs": [
    {
     "data": {
      "text/plain": [
       "array([[ 54166, 724304, 360412, ..., 765912, 186069, 745524],\n",
       "       [232584, 107616, 444600, ...,  72150,  32181, 162837],\n",
       "       [  8360, 308912, 394708, ...,  85565,  57040, 367840],\n",
       "       ...,\n",
       "       [ 51562, 101282, 510080, ..., 755874, 318329, 617600],\n",
       "       [107440,  24956, 506900, ..., 221328,  89661, 217119],\n",
       "       [323610, 354994, 248677, ..., 826119, 150280, 190432]])"
      ]
     },
     "execution_count": 48,
     "metadata": {},
     "output_type": "execute_result"
    }
   ],
   "source": [
    "mat1*mat2"
   ]
  },
  {
   "cell_type": "code",
   "execution_count": 49,
   "id": "51650684-507e-4eee-a8ad-92f45c888727",
   "metadata": {},
   "outputs": [
    {
     "data": {
      "text/plain": [
       "array([[-405,  -80, -276, ...,  211, -140, -205],\n",
       "       [ 617, -794,   34, ...,  847,  580, -836],\n",
       "       [-826,  554,  573, ...,  388, -858, -276],\n",
       "       ...,\n",
       "       [ 831, -391, -157, ...,   25,  200, -325],\n",
       "       [-462, -299,   55, ...,  378, -484,  290],\n",
       "       [-593, -507, -204, ..., -150, -318,  189]])"
      ]
     },
     "execution_count": 49,
     "metadata": {},
     "output_type": "execute_result"
    }
   ],
   "source": [
    "mat2-mat1"
   ]
  },
  {
   "cell_type": "code",
   "execution_count": 50,
   "id": "7bc9a56f-61a4-4819-b4e3-88e695341b39",
   "metadata": {},
   "outputs": [
    {
     "data": {
      "text/plain": [
       "499309276"
      ]
     },
     "execution_count": 50,
     "metadata": {},
     "output_type": "execute_result"
    }
   ],
   "source": [
    "np.sum(mat1)"
   ]
  },
  {
   "cell_type": "code",
   "execution_count": 51,
   "id": "03e50c31-a9a1-4e63-b41e-a130f32517f8",
   "metadata": {},
   "outputs": [
    {
     "data": {
      "text/plain": [
       "959"
      ]
     },
     "execution_count": 51,
     "metadata": {},
     "output_type": "execute_result"
    }
   ],
   "source": [
    "np.argmin(mat1)"
   ]
  },
  {
   "cell_type": "code",
   "execution_count": 52,
   "id": "a9a7f07a-754b-47f4-8938-ed208f894f5e",
   "metadata": {},
   "outputs": [
    {
     "data": {
      "text/plain": [
       "array([[254081756, 232296801, 243450086, ..., 243192826, 231678272,\n",
       "        232913068],\n",
       "       [249291542, 244161767, 241919487, ..., 247402233, 242724045,\n",
       "        242994370],\n",
       "       [252576070, 242891065, 250365679, ..., 245232832, 236792730,\n",
       "        240455592],\n",
       "       ...,\n",
       "       [259202124, 248628938, 251200177, ..., 250482200, 241917774,\n",
       "        240898500],\n",
       "       [250622467, 233007094, 243561121, ..., 248477085, 233118664,\n",
       "        238767129],\n",
       "       [250781644, 238231138, 246549556, ..., 251442170, 239560017,\n",
       "        247878410]])"
      ]
     },
     "execution_count": 52,
     "metadata": {},
     "output_type": "execute_result"
    }
   ],
   "source": [
    "mat1.dot(mat2)"
   ]
  },
  {
   "cell_type": "code",
   "execution_count": 53,
   "id": "1efc04e5-9fd5-43a7-be8d-7477483d3e51",
   "metadata": {},
   "outputs": [
    {
     "name": "stdout",
     "output_type": "stream",
     "text": [
      "1.44 s ± 70.6 ms per loop (mean ± std. dev. of 7 runs, 1 loop each)\n"
     ]
    }
   ],
   "source": [
    "%timeit mat1.dot(mat2)"
   ]
  },
  {
   "cell_type": "code",
   "execution_count": 58,
   "id": "3f2b61ed-f0b8-49b5-a0ad-fcb88c708292",
   "metadata": {},
   "outputs": [
    {
     "data": {
      "text/plain": [
       "array([[254081756, 232296801, 243450086, ..., 243192826, 231678272,\n",
       "        232913068],\n",
       "       [249291542, 244161767, 241919487, ..., 247402233, 242724045,\n",
       "        242994370],\n",
       "       [252576070, 242891065, 250365679, ..., 245232832, 236792730,\n",
       "        240455592],\n",
       "       ...,\n",
       "       [259202124, 248628938, 251200177, ..., 250482200, 241917774,\n",
       "        240898500],\n",
       "       [250622467, 233007094, 243561121, ..., 248477085, 233118664,\n",
       "        238767129],\n",
       "       [250781644, 238231138, 246549556, ..., 251442170, 239560017,\n",
       "        247878410]])"
      ]
     },
     "execution_count": 58,
     "metadata": {},
     "output_type": "execute_result"
    }
   ],
   "source": [
    "mat1 @ mat2"
   ]
  },
  {
   "cell_type": "code",
   "execution_count": 55,
   "id": "12ab1ec9-bdec-46a1-8d86-fb9b03e75ed8",
   "metadata": {},
   "outputs": [
    {
     "name": "stderr",
     "output_type": "stream",
     "text": [
      "/tmp/ipykernel_17569/2503624607.py:1: RuntimeWarning: divide by zero encountered in remainder\n",
      "  np.remainder(mat1, mat2)\n"
     ]
    },
    {
     "data": {
      "text/plain": [
       "array([[ 87,  80, 276, ..., 776, 140, 205],\n",
       "       [264,  86, 650, ...,  78,  51,  21],\n",
       "       [  6, 344, 404, ..., 157,  52, 276],\n",
       "       ...,\n",
       "       [ 58,  35, 157, ..., 857, 473, 325],\n",
       "       [122,  27, 685, ..., 318,  55, 343],\n",
       "       [248, 113, 204, ..., 150,  58, 352]])"
      ]
     },
     "execution_count": 55,
     "metadata": {},
     "output_type": "execute_result"
    }
   ],
   "source": [
    "np.remainder(mat1, mat2)"
   ]
  },
  {
   "cell_type": "code",
   "execution_count": 57,
   "id": "bb6c4038-3edb-4157-8420-25ba98487be7",
   "metadata": {},
   "outputs": [
    {
     "name": "stderr",
     "output_type": "stream",
     "text": [
      "/tmp/ipykernel_17569/616303396.py:1: RuntimeWarning: divide by zero encountered in remainder\n",
      "  mat1%mat2\n"
     ]
    },
    {
     "data": {
      "text/plain": [
       "array([[ 87,  80, 276, ..., 776, 140, 205],\n",
       "       [264,  86, 650, ...,  78,  51,  21],\n",
       "       [  6, 344, 404, ..., 157,  52, 276],\n",
       "       ...,\n",
       "       [ 58,  35, 157, ..., 857, 473, 325],\n",
       "       [122,  27, 685, ..., 318,  55, 343],\n",
       "       [248, 113, 204, ..., 150,  58, 352]])"
      ]
     },
     "execution_count": 57,
     "metadata": {},
     "output_type": "execute_result"
    }
   ],
   "source": [
    "mat1%mat2"
   ]
  },
  {
   "cell_type": "markdown",
   "id": "0b6bc59c-dcb1-45fa-8561-c5b3ebb66e97",
   "metadata": {},
   "source": [
    "## Graphs"
   ]
  },
  {
   "cell_type": "code",
   "execution_count": 59,
   "id": "d2b6b7e9-6015-4775-b9a4-6451d865db61",
   "metadata": {},
   "outputs": [],
   "source": [
    "import matplotlib.pyplot as plt"
   ]
  },
  {
   "cell_type": "code",
   "execution_count": 64,
   "id": "07bc069f-e285-4d94-bd66-ef8222973288",
   "metadata": {},
   "outputs": [
    {
     "data": {
      "image/png": "[encoded data removed]",
      "text/plain": [
       "<Figure size 432x288 with 1 Axes>"
      ]
     },
     "metadata": {
      "needs_background": "light"
     },
     "output_type": "display_data"
    }
   ],
   "source": [
    "x = np.arange(11)\n",
    "y = x*x\n",
    "\n",
    "plt.title(\"Line Graph\")\n",
    "plt.xlabel(\"x-axis\")\n",
    "plt.ylabel(\"y-axis\")\n",
    "plt.step(x,y, color=\"green\")\n",
    "plt.show()"
   ]
  },
  {
   "cell_type": "code",
   "execution_count": 66,
   "id": "a79a0d0c-5ebc-41b8-afb2-a9bdf59dee05",
   "metadata": {},
   "outputs": [
    {
     "data": {
      "image/png": "[encoded data removed]",
      "text/plain": [
       "<Figure size 432x288 with 1 Axes>"
      ]
     },
     "metadata": {
      "needs_background": "light"
     },
     "output_type": "display_data"
    }
   ],
   "source": [
    "n = np.random.randn(100)\n",
    "\n",
    "plt.plot(n, color=\"b\")\n",
    "plt.show()"
   ]
  },
  {
   "cell_type": "code",
   "execution_count": 67,
   "id": "9ba29deb-58e4-4564-a28a-70a4b45432dd",
   "metadata": {},
   "outputs": [
    {
     "data": {
      "image/png": "[encoded data removed]",
      "text/plain": [
       "<Figure size 432x288 with 1 Axes>"
      ]
     },
     "metadata": {
      "needs_background": "light"
     },
     "output_type": "display_data"
    }
   ],
   "source": [
    "fig = plt.figure()\n",
    "plt.plot(np.exp(n), color='m')\n",
    "plt.show()"
   ]
  },
  {
   "cell_type": "code",
   "execution_count": 68,
   "id": "e6f534e0-8ac0-4f8e-91bf-b888814d8af2",
   "metadata": {},
   "outputs": [],
   "source": [
    "fig.savefig('exp.png')"
   ]
  },
  {
   "cell_type": "code",
   "execution_count": 70,
   "id": "f0b6f18a-682c-4dc0-86ad-5e9c5cac9d89",
   "metadata": {},
   "outputs": [
    {
     "data": {
      "image/png": "[encoded data removed]",
      "text/plain": [
       "<Figure size 576x432 with 3 Axes>"
      ]
     },
     "metadata": {
      "needs_background": "light"
     },
     "output_type": "display_data"
    }
   ],
   "source": [
    "fig = plt.figure(figsize=(8,6))\n",
    "\n",
    "subplot1 = fig.add_subplot(3, 1, 1)\n",
    "subplot1.plot(np.tan(n), color='c')\n",
    "\n",
    "subplot2 = fig.add_subplot(3, 1, 2)\n",
    "subplot2.plot(np.cos(n), color='g')\n",
    "\n",
    "subplot3 = fig.add_subplot(3, 1, 3)\n",
    "subplot3.text(0.3, 0.5, '3rd plot')\n",
    "\n",
    "fig.suptitle(\"Subplots\")\n",
    "plt.show()\n",
    "\n",
    "fig.savefig('subplot.png')"
   ]
  },
  {
   "cell_type": "code",
   "execution_count": null,
   "id": "623de86f-e755-4819-8453-cb8464433769",
   "metadata": {},
   "outputs": [],
   "source": []
  }
 ],
 "metadata": {
  "kernelspec": {
   "display_name": "Python 3 (ipykernel)",
   "language": "python",
   "name": "python3"
  },
  "language_info": {
   "codemirror_mode": {
    "name": "ipython",
    "version": 3
   },
   "file_extension": ".py",
   "mimetype": "text/x-python",
   "name": "python",
   "nbconvert_exporter": "python",
   "pygments_lexer": "ipython3",
   "version": "3.9.7"
  }
 },
 "nbformat": 4,
 "nbformat_minor": 5
}
