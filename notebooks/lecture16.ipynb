{
 "cells": [
  {
   "cell_type": "markdown",
   "id": "a5408c1c-a346-4679-b02b-687ef4302de2",
   "metadata": {},
   "source": [
    "# Tokenizers "
   ]
  },
  {
   "cell_type": "code",
   "execution_count": 1,
   "id": "c818fce7-1643-40ee-9b43-94542187c1b1",
   "metadata": {},
   "outputs": [
    {
     "name": "stdout",
     "output_type": "stream",
     "text": [
      "\u001b[39m\u001b[1mInstalling \u001b[32m\u001b[1mnltk\u001b[39m\u001b[22m...\u001b[39m\u001b[22m\n",
      "\u001b[K\u001b[39m\u001b[1mAdding\u001b[39m\u001b[22m \u001b[32m\u001b[1mnltk\u001b[39m\u001b[22m \u001b[39m\u001b[1mto Pipfile's\u001b[39m\u001b[22m \u001b[33m\u001b[1m[packages]\u001b[39m\u001b[22m\u001b[39m\u001b[1m...\u001b[39m\u001b[22m\n",
      "\u001b[K\u001b[?25h✔ Installation Succeeded\u001b[0m \n",
      "\u001b[33m\u001b[1mPipfile.lock (110078) out of date, updating to (fb166b)...\u001b[39m\u001b[22m\n",
      "\u001b[39m\u001b[22mLocking\u001b[39m\u001b[22m \u001b[33m\u001b[22m[dev-packages]\u001b[39m\u001b[22m \u001b[39m\u001b[22mdependencies...\u001b[39m\u001b[22m\n",
      "\u001b[KBuilding requirements...\n",
      "\u001b[KResolving dependencies...\n",
      "\u001b[K\u001b[?25h\u001b[32m\u001b[22m✔ Success!\u001b[39m\u001b[22m\u001b[0m \n",
      "\u001b[39m\u001b[22mLocking\u001b[39m\u001b[22m \u001b[33m\u001b[22m[packages]\u001b[39m\u001b[22m \u001b[39m\u001b[22mdependencies...\u001b[39m\u001b[22m\n",
      "\u001b[KBuilding requirements...\n",
      "⠙\u001b[0m Locking...\u001b[K/home/christangrant/.local/lib/python3.9/site-packages/pipenv/patched/notpip/_internal/operations/prepare.py:218: PipDeprecationWarning: DEPRECATION: A future pip version will change local packages to be built in-place without first copying to a temporary directory. We recommend you use --use-feature=in-tree-build to test your packages with this new behavior before it becomes the default.\n",
      " pip 21.3 will remove support for this functionality. You can find discussion regarding this at https://github.com/pypa/pip/issues/7555.\n",
      "  deprecated(\n",
      "\u001b[KResolving dependencies...\n",
      "\u001b[K\u001b[?25h\u001b[32m\u001b[22m✔ Success!\u001b[39m\u001b[22m\u001b[0m \n",
      "\u001b[33m\u001b[22mWarning: /home/christangrant/.local/lib/python3.9/site-packages/pipenv/patched/notpip/_internal/operations/prepare.py:218: PipDeprecationWarning: DEPRECATION: A future pip version will change local packages to be built in-place without first copying to a temporary directory. We recommend you use --use-feature=in-tree-build to test your packages with this new behavior before it becomes the default.\n",
      " pip 21.3 will remove support for this functionality. You can find discussion regarding this at https://github.com/pypa/pip/issues/7555.\n",
      "  deprecated(\n",
      "/home/christangrant/.local/lib/python3.9/site-packages/pipenv/patched/notpip/_internal/operations/prepare.py:218: PipDeprecationWarning: DEPRECATION: A future pip version will change local packages to be built in-place without first copying to a temporary directory. We recommend you use --use-feature=in-tree-build to test your packages with this new behavior before it becomes the default.\n",
      " pip 21.3 will remove support for this functionality. You can find discussion regarding this at https://github.com/pypa/pip/issues/7555.\n",
      "  deprecated(\n",
      "/home/christangrant/.local/lib/python3.9/site-packages/pipenv/patched/notpip/_internal/operations/prepare.py:218: PipDeprecationWarning: DEPRECATION: A future pip version will change local packages to be built in-place without first copying to a temporary directory. We recommend you use --use-feature=in-tree-build to test your packages with this new behavior before it becomes the default.\n",
      " pip 21.3 will remove support for this functionality. You can find discussion regarding this at https://github.com/pypa/pip/issues/7555.\n",
      "  deprecated(\n",
      "/home/christangrant/.local/lib/python3.9/site-packages/pipenv/patched/notpip/_internal/operations/prepare.py:218: PipDeprecationWarning: DEPRECATION: A future pip version will change local packages to be built in-place without first copying to a temporary directory. We recommend you use --use-feature=in-tree-build to test your packages with this new behavior before it becomes the default.\n",
      " pip 21.3 will remove support for this functionality. You can find discussion regarding this at https://github.com/pypa/pip/issues/7555.\n",
      "  deprecated(\n",
      "/home/christangrant/.local/lib/python3.9/site-packages/pipenv/patched/notpip/_internal/operations/prepare.py:218: PipDeprecationWarning: DEPRECATION: A future pip version will change local packages to be built in-place without first copying to a temporary directory. We recommend you use --use-feature=in-tree-build to test your packages with this new behavior before it becomes the default.\n",
      " pip 21.3 will remove support for this functionality. You can find discussion regarding this at https://github.com/pypa/pip/issues/7555.\n",
      "  deprecated(\u001b[39m\u001b[22m\n",
      "\u001b[39m\u001b[1mUpdated Pipfile.lock (fb166b)!\u001b[39m\u001b[22m\n",
      "\u001b[39m\u001b[1mInstalling dependencies from Pipfile.lock (fb166b)...\u001b[39m\u001b[22m\n",
      "/home/christangrant/.local/lib/python3.9/site-packages/pipenv/patched/notpip/_internal/operations/prepare.py:218: PipDeprecationWarning: DEPRECATION: A future pip version will change local packages to be built in-place without first copying to a temporary directory. We recommend you use --use-feature=in-tree-build to test your packages with this new behavior before it becomes the default.\n",
      " pip 21.3 will remove support for this functionality. You can find discussion regarding this at https://github.com/pypa/pip/issues/7555.\n",
      "  deprecated(\n",
      "  🐍   \u001b[32m\u001b[1m▉\u001b[39m\u001b[22m\u001b[32m\u001b[1m▉\u001b[39m\u001b[22m\u001b[32m\u001b[1m▉\u001b[39m\u001b[22m\u001b[32m\u001b[1m▉\u001b[39m\u001b[22m\u001b[32m\u001b[1m▉\u001b[39m\u001b[22m\u001b[32m\u001b[1m▉\u001b[39m\u001b[22m\u001b[32m\u001b[1m▉\u001b[39m\u001b[22m\u001b[32m\u001b[1m▉\u001b[39m\u001b[22m\u001b[32m\u001b[1m▉\u001b[39m\u001b[22m\u001b[32m\u001b[1m▉\u001b[39m\u001b[22m\u001b[32m\u001b[1m▉\u001b[39m\u001b[22m\u001b[32m\u001b[1m▉\u001b[39m\u001b[22m\u001b[32m\u001b[1m▉\u001b[39m\u001b[22m\u001b[32m\u001b[1m▉\u001b[39m\u001b[22m\u001b[32m\u001b[1m▉\u001b[39m\u001b[22m\u001b[32m\u001b[1m▉\u001b[39m\u001b[22m\u001b[32m\u001b[1m▉\u001b[39m\u001b[22m\u001b[32m\u001b[1m▉\u001b[39m\u001b[22m\u001b[32m\u001b[1m▉\u001b[39m\u001b[22m\u001b[32m\u001b[1m▉\u001b[39m\u001b[22m\u001b[32m\u001b[1m▉\u001b[39m\u001b[22m\u001b[32m\u001b[1m▉\u001b[39m\u001b[22m\u001b[32m\u001b[1m▉\u001b[39m\u001b[22m\u001b[32m\u001b[1m▉\u001b[39m\u001b[22m\u001b[32m\u001b[1m▉\u001b[39m\u001b[22m\u001b[32m\u001b[1m▉\u001b[39m\u001b[22m\u001b[32m\u001b[1m▉\u001b[39m\u001b[22m\u001b[32m\u001b[1m▉\u001b[39m\u001b[22m\u001b[32m\u001b[1m▉\u001b[39m\u001b[22m\u001b[32m\u001b[1m▉\u001b[39m\u001b[22m\u001b[32m\u001b[1m▉\u001b[39m\u001b[22m\u001b[32m\u001b[1m▉\u001b[39m\u001b[22m 15/15 — \u001b[30m\u001b[22m00:00:15\u001b[39m\u001b[22m22m2m2m2m2mm2m22m2m2m2m2m2m2m2m\n",
      "\u001b[0m"
     ]
    }
   ],
   "source": [
    "! pipenv install nltk"
   ]
  },
  {
   "cell_type": "code",
   "execution_count": 3,
   "id": "8a5f9e6e-aec1-4257-bc75-e4024376349c",
   "metadata": {},
   "outputs": [],
   "source": [
    "import nltk\n",
    "from nltk import tokenize"
   ]
  },
  {
   "cell_type": "code",
   "execution_count": 4,
   "id": "34953a54-da5a-410d-abfe-9c9fb6bbabd3",
   "metadata": {},
   "outputs": [],
   "source": [
    "s1 = \"\"\"Why wase time say lot word when few word do trick?\"\"\""
   ]
  },
  {
   "cell_type": "code",
   "execution_count": 5,
   "id": "57127b42-8a1f-4f77-9356-a8a264774b49",
   "metadata": {},
   "outputs": [],
   "source": [
    "s2 = \"\"\"Hickory dickory dock, the mouse ran up the clock.\"\"\""
   ]
  },
  {
   "cell_type": "code",
   "execution_count": 7,
   "id": "fb5fdf25-633b-4cd3-92e1-85ccc2872e93",
   "metadata": {},
   "outputs": [],
   "source": [
    "from nltk.tokenize import word_tokenize"
   ]
  },
  {
   "cell_type": "code",
   "execution_count": 13,
   "id": "14ce50a3-08a4-4362-b411-dfeb71768ec9",
   "metadata": {},
   "outputs": [
    {
     "name": "stdout",
     "output_type": "stream",
     "text": [
      "Filesystem      Size  Used Avail Use% Mounted on\n",
      "/dev/root       100G   22G   79G  22% /\n"
     ]
    }
   ],
   "source": [
    "! df -h /home/christangrant/nltk_data"
   ]
  },
  {
   "cell_type": "code",
   "execution_count": 10,
   "id": "a9f46d42-48d2-42c9-8207-b53eaf58201e",
   "metadata": {},
   "outputs": [
    {
     "name": "stderr",
     "output_type": "stream",
     "text": [
      "[nltk_data] Downloading package punkt to\n",
      "[nltk_data]     /home/christangrant/nltk_data...\n",
      "[nltk_data]   Unzipping tokenizers/punkt.zip.\n"
     ]
    },
    {
     "data": {
      "text/plain": [
       "True"
      ]
     },
     "execution_count": 10,
     "metadata": {},
     "output_type": "execute_result"
    }
   ],
   "source": [
    "# nltk.download('punkt') # Download the model"
   ]
  },
  {
   "cell_type": "code",
   "execution_count": 14,
   "id": "9f919e95-7198-4a4a-8f89-97e66ab7e1bb",
   "metadata": {},
   "outputs": [
    {
     "data": {
      "text/plain": [
       "['Why',\n",
       " 'wase',\n",
       " 'time',\n",
       " 'say',\n",
       " 'lot',\n",
       " 'word',\n",
       " 'when',\n",
       " 'few',\n",
       " 'word',\n",
       " 'do',\n",
       " 'trick',\n",
       " '?']"
      ]
     },
     "execution_count": 14,
     "metadata": {},
     "output_type": "execute_result"
    }
   ],
   "source": [
    "word_tokenize(s1)"
   ]
  },
  {
   "cell_type": "code",
   "execution_count": 15,
   "id": "c8d9c2b2-f882-4b02-87fd-a3ee642990b7",
   "metadata": {},
   "outputs": [
    {
     "data": {
      "text/plain": [
       "['Hickory',\n",
       " 'dickory',\n",
       " 'dock',\n",
       " ',',\n",
       " 'the',\n",
       " 'mouse',\n",
       " 'ran',\n",
       " 'up',\n",
       " 'the',\n",
       " 'clock',\n",
       " '.']"
      ]
     },
     "execution_count": 15,
     "metadata": {},
     "output_type": "execute_result"
    }
   ],
   "source": [
    "word_tokenize(s2)"
   ]
  },
  {
   "cell_type": "code",
   "execution_count": 21,
   "id": "c8f6febe-45d1-445d-b58e-f9670d765936",
   "metadata": {},
   "outputs": [
    {
     "data": {
      "text/plain": [
       "['Why wase time say lot word when few word do trick?',\n",
       " 'Hickory dickory dock, the mouse ran up the clock.']"
      ]
     },
     "execution_count": 21,
     "metadata": {},
     "output_type": "execute_result"
    }
   ],
   "source": [
    "paragraph = [s1,s2]\n",
    "paragraph"
   ]
  },
  {
   "cell_type": "code",
   "execution_count": 18,
   "id": "ed9821bb-0898-4280-b29a-88cb7c85dd5a",
   "metadata": {},
   "outputs": [
    {
     "data": {
      "text/plain": [
       "'Why wase time say lot word when few word do trick? Hickory dickory dock, the mouse ran up the clock.'"
      ]
     },
     "execution_count": 18,
     "metadata": {},
     "output_type": "execute_result"
    }
   ],
   "source": [
    "' '.join(paragraph)"
   ]
  },
  {
   "cell_type": "code",
   "execution_count": 19,
   "id": "6a6afd41-cbf9-4bad-9f61-456cd96d6f93",
   "metadata": {},
   "outputs": [],
   "source": [
    "from nltk.tokenize import sent_tokenize"
   ]
  },
  {
   "cell_type": "code",
   "execution_count": 20,
   "id": "b81434f9-d9f6-4425-ac38-3e8672824068",
   "metadata": {},
   "outputs": [
    {
     "data": {
      "text/plain": [
       "['Why wase time say lot word when few word do trick?',\n",
       " 'Hickory dickory dock, the mouse ran up the clock.']"
      ]
     },
     "execution_count": 20,
     "metadata": {},
     "output_type": "execute_result"
    }
   ],
   "source": [
    "sent_tokenize(' '.join(paragraph))"
   ]
  },
  {
   "cell_type": "code",
   "execution_count": 24,
   "id": "c085c356-ac4d-4c2c-8c45-1cc8b1c295a9",
   "metadata": {},
   "outputs": [
    {
     "data": {
      "text/plain": [
       "[['Why',\n",
       "  'wase',\n",
       "  'time',\n",
       "  'say',\n",
       "  'lot',\n",
       "  'word',\n",
       "  'when',\n",
       "  'few',\n",
       "  'word',\n",
       "  'do',\n",
       "  'trick',\n",
       "  '?'],\n",
       " ['Hickory',\n",
       "  'dickory',\n",
       "  'dock',\n",
       "  ',',\n",
       "  'the',\n",
       "  'mouse',\n",
       "  'ran',\n",
       "  'up',\n",
       "  'the',\n",
       "  'clock',\n",
       "  '.']]"
      ]
     },
     "execution_count": 24,
     "metadata": {},
     "output_type": "execute_result"
    }
   ],
   "source": [
    "[ word_tokenize(sent) for sent in sent_tokenize(' '.join(paragraph))]"
   ]
  },
  {
   "cell_type": "markdown",
   "id": "0eeb9251-7d0d-4e59-9be1-68d5b6a928b0",
   "metadata": {},
   "source": [
    "# Vectorization"
   ]
  },
  {
   "cell_type": "markdown",
   "id": "8842fa4f-a28f-4c76-9040-fcc9b06b3be0",
   "metadata": {},
   "source": [
    "Given a corpus C, normalize C, then vectorize C.\n",
    "Vectorizing C gives us a **vocabulary** and it gives us **weights**."
   ]
  },
  {
   "cell_type": "markdown",
   "id": "e441c41a-fdea-4f26-a0f9-a2583dcdc608",
   "metadata": {},
   "source": [
    "Get vocabulary => vocabulary is a list of terms that appear in the corpus.\n",
    "\n",
    "\n",
    "Create a vector where each entry represents a voculary item.\n",
    "If our vocabulary size is 10K, our vector size if 10K. (Good Normalization shrinks this vector size.)\n",
    "\n",
    "If V is the vocabulary, V + 5 => vocabulary size.\n",
    "\n",
    "- OOV (Out of Vocabulary) /Unknown terms\n",
    "- Redacted terms\n",
    "- grouped terms\n",
    "- \n",
    "\n",
    "Corpus = \n",
    "\n",
    ">Old macdonald had a farm, on his farm he had a cow.\n",
    ">Old macdonald had a farm, on his farm he had a pig.\n",
    ">Old macdonald had a farm, on his farm he had a goat.\n",
    "\n",
    "Normalize(Corpus) \n",
    "\n",
    ">Old, macdonald, farm, pig, cow, goat\n",
    "\n",
    "\n",
    "\n",
    "```pre\n",
    "Old, macdonald, farm, pig, cow, goat\n",
    "[1, 1, 1, 0, 1 ,0]\n",
    "[1, 1, 1, 1 ,0, 0]\n",
    "[1, 1, 1, 0, 0, 1]\n",
    "```\n",
    "\n",
    "**One-hot encoding** of text.\n",
    "\n",
    "How can we get some positional information in this one-hot encoded format?\n",
    "\n",
    "> Use weights to represent positions?\n",
    "> Use nggrams to group terms together \n",
    "\n",
    "### N-gram encoding\n",
    "Vocabulary size grows with the size of the ngram\n",
    "\n",
    "```pre\n",
    "Old, macdonald, farm, pig, cow, goat\n",
    "<s> Old, Old macdonald, macdonald farm, farm pig, pig cow, cow goat, goat </s>\n",
    "[1,1,1,0,0,0,0]\n",
    "[1,1,1,0,0,0,1]\n",
    "[1,1,1,0,0,0,0]\n",
    "```\n",
    "Useful to have a range of n-grams when vectorizing.\n",
    "\n",
    "## Bag of words model\n",
    "\n",
    "Unordered bag representation of the vocabulary.\n",
    "\n",
    ">Old macdonald had a farm, on his farm he had a cow.\n",
    ">Old macdonald had a farm, on his farm he had a pig.\n",
    ">Old macdonald had a farm, on his farm he had a goat.\n",
    "\n",
    "```pre\n",
    "bow =\n",
    "Old, macdonald, farm, pig, cow, goat\n",
    "[1, 1, 2, 0, 1 ,0]\n",
    "[1, 1, 2, 1 ,0, 0]\n",
    "[1, 1, 2, 0, 0, 1]\n",
    "```\n",
    "\n",
    "Unique words may be important!\n",
    "\n",
    "## Term frequency\n",
    "\n",
    "The raw frequency value of a term in a particular document.\n",
    "\n",
    "$$\n",
    "tf(word,document) = \\sum_{v \\in D} 1 (if v == w)\n",
    "$$\n",
    "\n",
    "\n",
    "## Document frequency \n",
    "\n",
    "The number of documents that contain a word w.\n",
    "\n",
    "\n",
    "## TF*IDF\n",
    "\n",
    "idf = 1/df = log(N/(df+epslilon)) + epsilon\n",
    "\n",
    "\n",
    "Term frequency * Inverse document freqency\n",
    "\n",
    "\n",
    "## Smoothing.\n",
    "\n",
    "Adding a small term to help handle out of vocabulary errors floating point issues.\n"
   ]
  },
  {
   "cell_type": "code",
   "execution_count": 28,
   "id": "857a8a04-06a6-496d-b8e5-edb5f2930341",
   "metadata": {},
   "outputs": [
    {
     "name": "stdout",
     "output_type": "stream",
     "text": [
      "\u001b[39m\u001b[1mInstalling \u001b[32m\u001b[1msklearn\u001b[39m\u001b[22m...\u001b[39m\u001b[22m\n",
      "\u001b[K\u001b[39m\u001b[1mAdding\u001b[39m\u001b[22m \u001b[32m\u001b[1msklearn\u001b[39m\u001b[22m \u001b[39m\u001b[1mto Pipfile's\u001b[39m\u001b[22m \u001b[33m\u001b[1m[packages]\u001b[39m\u001b[22m\u001b[39m\u001b[1m...\u001b[39m\u001b[22m\n",
      "\u001b[K\u001b[?25h✔ Installation Succeeded\u001b[0m \n",
      "\u001b[33m\u001b[1mPipfile.lock (fb166b) out of date, updating to (dcd7af)...\u001b[39m\u001b[22m\n",
      "\u001b[39m\u001b[22mLocking\u001b[39m\u001b[22m \u001b[33m\u001b[22m[dev-packages]\u001b[39m\u001b[22m \u001b[39m\u001b[22mdependencies...\u001b[39m\u001b[22m\n",
      "\u001b[KBuilding requirements...\n",
      "\u001b[KResolving dependencies...\n",
      "\u001b[K\u001b[?25h\u001b[32m\u001b[22m✔ Success!\u001b[39m\u001b[22m\u001b[0m \n",
      "\u001b[39m\u001b[22mLocking\u001b[39m\u001b[22m \u001b[33m\u001b[22m[packages]\u001b[39m\u001b[22m \u001b[39m\u001b[22mdependencies...\u001b[39m\u001b[22m\n",
      "\u001b[KBuilding requirements...\n",
      "⠙\u001b[0m Locking...\u001b[K/home/christangrant/.local/lib/python3.9/site-packages/pipenv/patched/notpip/_internal/operations/prepare.py:218: PipDeprecationWarning: DEPRECATION: A future pip version will change local packages to be built in-place without first copying to a temporary directory. We recommend you use --use-feature=in-tree-build to test your packages with this new behavior before it becomes the default.\n",
      " pip 21.3 will remove support for this functionality. You can find discussion regarding this at https://github.com/pypa/pip/issues/7555.\n",
      "  deprecated(\n",
      "\u001b[KResolving dependencies...\n",
      "\u001b[K\u001b[?25h\u001b[32m\u001b[22m✔ Success!\u001b[39m\u001b[22m\u001b[0m \n",
      "\u001b[33m\u001b[22mWarning: /home/christangrant/.local/lib/python3.9/site-packages/pipenv/patched/notpip/_internal/operations/prepare.py:218: PipDeprecationWarning: DEPRECATION: A future pip version will change local packages to be built in-place without first copying to a temporary directory. We recommend you use --use-feature=in-tree-build to test your packages with this new behavior before it becomes the default.\n",
      " pip 21.3 will remove support for this functionality. You can find discussion regarding this at https://github.com/pypa/pip/issues/7555.\n",
      "  deprecated(\n",
      "/home/christangrant/.local/lib/python3.9/site-packages/pipenv/patched/notpip/_internal/operations/prepare.py:218: PipDeprecationWarning: DEPRECATION: A future pip version will change local packages to be built in-place without first copying to a temporary directory. We recommend you use --use-feature=in-tree-build to test your packages with this new behavior before it becomes the default.\n",
      " pip 21.3 will remove support for this functionality. You can find discussion regarding this at https://github.com/pypa/pip/issues/7555.\n",
      "  deprecated(\n",
      "/home/christangrant/.local/lib/python3.9/site-packages/pipenv/patched/notpip/_internal/operations/prepare.py:218: PipDeprecationWarning: DEPRECATION: A future pip version will change local packages to be built in-place without first copying to a temporary directory. We recommend you use --use-feature=in-tree-build to test your packages with this new behavior before it becomes the default.\n",
      " pip 21.3 will remove support for this functionality. You can find discussion regarding this at https://github.com/pypa/pip/issues/7555.\n",
      "  deprecated(\n",
      "/home/christangrant/.local/lib/python3.9/site-packages/pipenv/patched/notpip/_internal/operations/prepare.py:218: PipDeprecationWarning: DEPRECATION: A future pip version will change local packages to be built in-place without first copying to a temporary directory. We recommend you use --use-feature=in-tree-build to test your packages with this new behavior before it becomes the default.\n",
      " pip 21.3 will remove support for this functionality. You can find discussion regarding this at https://github.com/pypa/pip/issues/7555.\n",
      "  deprecated(\n",
      "/home/christangrant/.local/lib/python3.9/site-packages/pipenv/patched/notpip/_internal/operations/prepare.py:218: PipDeprecationWarning: DEPRECATION: A future pip version will change local packages to be built in-place without first copying to a temporary directory. We recommend you use --use-feature=in-tree-build to test your packages with this new behavior before it becomes the default.\n",
      " pip 21.3 will remove support for this functionality. You can find discussion regarding this at https://github.com/pypa/pip/issues/7555.\n",
      "  deprecated(\u001b[39m\u001b[22m\n",
      "\u001b[39m\u001b[1mUpdated Pipfile.lock (dcd7af)!\u001b[39m\u001b[22m\n",
      "\u001b[39m\u001b[1mInstalling dependencies from Pipfile.lock (dcd7af)...\u001b[39m\u001b[22m\n",
      "/home/christangrant/.local/lib/python3.9/site-packages/pipenv/patched/notpip/_internal/operations/prepare.py:218: PipDeprecationWarning: DEPRECATION: A future pip version will change local packages to be built in-place without first copying to a temporary directory. We recommend you use --use-feature=in-tree-build to test your packages with this new behavior before it becomes the default.\n",
      " pip 21.3 will remove support for this functionality. You can find discussion regarding this at https://github.com/pypa/pip/issues/7555.\n",
      "  deprecated(\n",
      "  🐍   \u001b[32m\u001b[1m▉\u001b[39m\u001b[22m\u001b[32m\u001b[1m▉\u001b[39m\u001b[22m\u001b[32m\u001b[1m▉\u001b[39m\u001b[22m\u001b[32m\u001b[1m▉\u001b[39m\u001b[22m\u001b[32m\u001b[1m▉\u001b[39m\u001b[22m\u001b[32m\u001b[1m▉\u001b[39m\u001b[22m\u001b[32m\u001b[1m▉\u001b[39m\u001b[22m\u001b[32m\u001b[1m▉\u001b[39m\u001b[22m\u001b[32m\u001b[1m▉\u001b[39m\u001b[22m\u001b[32m\u001b[1m▉\u001b[39m\u001b[22m\u001b[32m\u001b[1m▉\u001b[39m\u001b[22m\u001b[32m\u001b[1m▉\u001b[39m\u001b[22m\u001b[32m\u001b[1m▉\u001b[39m\u001b[22m\u001b[32m\u001b[1m▉\u001b[39m\u001b[22m\u001b[32m\u001b[1m▉\u001b[39m\u001b[22m\u001b[32m\u001b[1m▉\u001b[39m\u001b[22m\u001b[32m\u001b[1m▉\u001b[39m\u001b[22m\u001b[32m\u001b[1m▉\u001b[39m\u001b[22m\u001b[32m\u001b[1m▉\u001b[39m\u001b[22m\u001b[32m\u001b[1m▉\u001b[39m\u001b[22m\u001b[32m\u001b[1m▉\u001b[39m\u001b[22m\u001b[32m\u001b[1m▉\u001b[39m\u001b[22m\u001b[32m\u001b[1m▉\u001b[39m\u001b[22m\u001b[32m\u001b[1m▉\u001b[39m\u001b[22m\u001b[32m\u001b[1m▉\u001b[39m\u001b[22m\u001b[32m\u001b[1m▉\u001b[39m\u001b[22m\u001b[32m\u001b[1m▉\u001b[39m\u001b[22m\u001b[32m\u001b[1m▉\u001b[39m\u001b[22m\u001b[32m\u001b[1m▉\u001b[39m\u001b[22m\u001b[32m\u001b[1m▉\u001b[39m\u001b[22m\u001b[32m\u001b[1m▉\u001b[39m\u001b[22m\u001b[32m\u001b[1m▉\u001b[39m\u001b[22m 2/2 — \u001b[30m\u001b[22m00:00:00\u001b[39m\u001b[22m:00:00\u001b[39m\u001b[22m:00:00\u001b[39m\u001b[22m\n",
      "\u001b[0m"
     ]
    }
   ],
   "source": [
    "! pipenv install sklearn"
   ]
  },
  {
   "cell_type": "markdown",
   "id": "dfc90cad-c480-486c-b9ce-4f735de93eb7",
   "metadata": {},
   "source": [
    "Sklearn has an api to documents.\n",
    "\n",
    ">Transformers take a document and processes it using the function .fit_transform\n",
    ">Vectorizers take a document and process it using .fit() \n",
    ">fit create an internal model using the document\n",
    "\n",
    "    "
   ]
  },
  {
   "cell_type": "code",
   "execution_count": 31,
   "id": "8bcf0981-dae6-4e29-932a-28cf7dc1efa6",
   "metadata": {},
   "outputs": [
    {
     "data": {
      "text/plain": [
       "[['Why',\n",
       "  'wase',\n",
       "  'time',\n",
       "  'say',\n",
       "  'lot',\n",
       "  'word',\n",
       "  'when',\n",
       "  'few',\n",
       "  'word',\n",
       "  'do',\n",
       "  'trick',\n",
       "  '?'],\n",
       " ['Hickory',\n",
       "  'dickory',\n",
       "  'dock',\n",
       "  ',',\n",
       "  'the',\n",
       "  'mouse',\n",
       "  'ran',\n",
       "  'up',\n",
       "  'the',\n",
       "  'clock',\n",
       "  '.']]"
      ]
     },
     "execution_count": 31,
     "metadata": {},
     "output_type": "execute_result"
    }
   ],
   "source": [
    "corpus = [ word_tokenize(sent) for sent in sent_tokenize(' '.join(paragraph))]\n",
    "corpus"
   ]
  },
  {
   "cell_type": "code",
   "execution_count": 32,
   "id": "ee3a62df-da86-46e4-b28d-8f14939060a3",
   "metadata": {},
   "outputs": [],
   "source": [
    "import sklearn\n",
    "from sklearn.feature_extraction.text import CountVectorizer"
   ]
  },
  {
   "cell_type": "code",
   "execution_count": 35,
   "id": "5408d624-fad0-43ef-a563-42a66b214ae6",
   "metadata": {},
   "outputs": [
    {
     "name": "stdout",
     "output_type": "stream",
     "text": [
      "  (0, 16)\t1\n",
      "  (0, 14)\t1\n",
      "  (0, 11)\t1\n",
      "  (0, 9)\t1\n",
      "  (0, 6)\t1\n",
      "  (0, 17)\t2\n",
      "  (0, 15)\t1\n",
      "  (0, 4)\t1\n",
      "  (0, 2)\t1\n",
      "  (0, 12)\t1\n",
      "  (1, 5)\t1\n",
      "  (1, 1)\t1\n",
      "  (1, 3)\t1\n",
      "  (1, 10)\t2\n",
      "  (1, 7)\t1\n",
      "  (1, 8)\t1\n",
      "  (1, 13)\t1\n",
      "  (1, 0)\t1\n"
     ]
    }
   ],
   "source": [
    "cv = CountVectorizer(min_df=0., max_df=1.)\n",
    "cv_matrix = cv.fit_transform([s1, s2])\n",
    "print(cv_matrix)"
   ]
  },
  {
   "cell_type": "code",
   "execution_count": 36,
   "id": "bdbb672f-96e7-465c-8e50-21aa2d0c7973",
   "metadata": {},
   "outputs": [
    {
     "data": {
      "text/plain": [
       "array([[0, 0, 1, 0, 1, 0, 1, 0, 0, 1, 0, 1, 1, 0, 1, 1, 1, 2],\n",
       "       [1, 1, 0, 1, 0, 1, 0, 1, 1, 0, 2, 0, 0, 1, 0, 0, 0, 0]])"
      ]
     },
     "execution_count": 36,
     "metadata": {},
     "output_type": "execute_result"
    }
   ],
   "source": [
    "cv_matrix.toarray()"
   ]
  },
  {
   "cell_type": "code",
   "execution_count": 38,
   "id": "93b6829f-60e1-49b4-97a5-bb89a777a3ea",
   "metadata": {},
   "outputs": [
    {
     "data": {
      "text/plain": [
       "array(['clock', 'dickory', 'do', 'dock', 'few', 'hickory', 'lot', 'mouse',\n",
       "       'ran', 'say', 'the', 'time', 'trick', 'up', 'wase', 'when', 'why',\n",
       "       'word'], dtype=object)"
      ]
     },
     "execution_count": 38,
     "metadata": {},
     "output_type": "execute_result"
    }
   ],
   "source": [
    "vocab = cv.get_feature_names_out()\n",
    "vocab"
   ]
  },
  {
   "cell_type": "code",
   "execution_count": 41,
   "id": "4cd3fe86-4a8a-4d2a-b19b-49690caa268d",
   "metadata": {},
   "outputs": [
    {
     "data": {
      "text/html": [
       "<div>\n",
       "<style scoped>\n",
       "    .dataframe tbody tr th:only-of-type {\n",
       "        vertical-align: middle;\n",
       "    }\n",
       "\n",
       "    .dataframe tbody tr th {\n",
       "        vertical-align: top;\n",
       "    }\n",
       "\n",
       "    .dataframe thead th {\n",
       "        text-align: right;\n",
       "    }\n",
       "</style>\n",
       "<table border=\"1\" class=\"dataframe\">\n",
       "  <thead>\n",
       "    <tr style=\"text-align: right;\">\n",
       "      <th></th>\n",
       "      <th>clock</th>\n",
       "      <th>dickory</th>\n",
       "      <th>do</th>\n",
       "      <th>dock</th>\n",
       "      <th>few</th>\n",
       "      <th>hickory</th>\n",
       "      <th>lot</th>\n",
       "      <th>mouse</th>\n",
       "      <th>ran</th>\n",
       "      <th>say</th>\n",
       "      <th>the</th>\n",
       "      <th>time</th>\n",
       "      <th>trick</th>\n",
       "      <th>up</th>\n",
       "      <th>wase</th>\n",
       "      <th>when</th>\n",
       "      <th>why</th>\n",
       "      <th>word</th>\n",
       "    </tr>\n",
       "  </thead>\n",
       "  <tbody>\n",
       "    <tr>\n",
       "      <th>0</th>\n",
       "      <td>0</td>\n",
       "      <td>0</td>\n",
       "      <td>1</td>\n",
       "      <td>0</td>\n",
       "      <td>1</td>\n",
       "      <td>0</td>\n",
       "      <td>1</td>\n",
       "      <td>0</td>\n",
       "      <td>0</td>\n",
       "      <td>1</td>\n",
       "      <td>0</td>\n",
       "      <td>1</td>\n",
       "      <td>1</td>\n",
       "      <td>0</td>\n",
       "      <td>1</td>\n",
       "      <td>1</td>\n",
       "      <td>1</td>\n",
       "      <td>2</td>\n",
       "    </tr>\n",
       "    <tr>\n",
       "      <th>1</th>\n",
       "      <td>1</td>\n",
       "      <td>1</td>\n",
       "      <td>0</td>\n",
       "      <td>1</td>\n",
       "      <td>0</td>\n",
       "      <td>1</td>\n",
       "      <td>0</td>\n",
       "      <td>1</td>\n",
       "      <td>1</td>\n",
       "      <td>0</td>\n",
       "      <td>2</td>\n",
       "      <td>0</td>\n",
       "      <td>0</td>\n",
       "      <td>1</td>\n",
       "      <td>0</td>\n",
       "      <td>0</td>\n",
       "      <td>0</td>\n",
       "      <td>0</td>\n",
       "    </tr>\n",
       "  </tbody>\n",
       "</table>\n",
       "</div>"
      ],
      "text/plain": [
       "   clock  dickory  do  dock  few  hickory  lot  mouse  ran  say  the  time  \\\n",
       "0      0        0   1     0    1        0    1      0    0    1    0     1   \n",
       "1      1        1   0     1    0        1    0      1    1    0    2     0   \n",
       "\n",
       "   trick  up  wase  when  why  word  \n",
       "0      1   0     1     1    1     2  \n",
       "1      0   1     0     0    0     0  "
      ]
     },
     "execution_count": 41,
     "metadata": {},
     "output_type": "execute_result"
    }
   ],
   "source": [
    "import pandas as pd\n",
    "df = pd.DataFrame(cv_matrix.toarray(), columns=vocab)\n",
    "df"
   ]
  },
  {
   "cell_type": "code",
   "execution_count": 45,
   "id": "0e806755-be6f-432e-af52-8e22f2fcd6fe",
   "metadata": {},
   "outputs": [
    {
     "data": {
      "text/html": [
       "<div>\n",
       "<style scoped>\n",
       "    .dataframe tbody tr th:only-of-type {\n",
       "        vertical-align: middle;\n",
       "    }\n",
       "\n",
       "    .dataframe tbody tr th {\n",
       "        vertical-align: top;\n",
       "    }\n",
       "\n",
       "    .dataframe thead th {\n",
       "        text-align: right;\n",
       "    }\n",
       "</style>\n",
       "<table border=\"1\" class=\"dataframe\">\n",
       "  <thead>\n",
       "    <tr style=\"text-align: right;\">\n",
       "      <th></th>\n",
       "      <th>dickory dock</th>\n",
       "      <th>do trick</th>\n",
       "      <th>dock the</th>\n",
       "      <th>few word</th>\n",
       "      <th>hickory dickory</th>\n",
       "      <th>lot word</th>\n",
       "      <th>mouse ran</th>\n",
       "      <th>ran up</th>\n",
       "      <th>say lot</th>\n",
       "      <th>the clock</th>\n",
       "      <th>the mouse</th>\n",
       "      <th>time say</th>\n",
       "      <th>up the</th>\n",
       "      <th>wase time</th>\n",
       "      <th>when few</th>\n",
       "      <th>why wase</th>\n",
       "      <th>word do</th>\n",
       "      <th>word when</th>\n",
       "    </tr>\n",
       "  </thead>\n",
       "  <tbody>\n",
       "    <tr>\n",
       "      <th>0</th>\n",
       "      <td>0</td>\n",
       "      <td>1</td>\n",
       "      <td>0</td>\n",
       "      <td>1</td>\n",
       "      <td>0</td>\n",
       "      <td>1</td>\n",
       "      <td>0</td>\n",
       "      <td>0</td>\n",
       "      <td>1</td>\n",
       "      <td>0</td>\n",
       "      <td>0</td>\n",
       "      <td>1</td>\n",
       "      <td>0</td>\n",
       "      <td>1</td>\n",
       "      <td>1</td>\n",
       "      <td>1</td>\n",
       "      <td>1</td>\n",
       "      <td>1</td>\n",
       "    </tr>\n",
       "    <tr>\n",
       "      <th>1</th>\n",
       "      <td>1</td>\n",
       "      <td>0</td>\n",
       "      <td>1</td>\n",
       "      <td>0</td>\n",
       "      <td>1</td>\n",
       "      <td>0</td>\n",
       "      <td>1</td>\n",
       "      <td>1</td>\n",
       "      <td>0</td>\n",
       "      <td>1</td>\n",
       "      <td>1</td>\n",
       "      <td>0</td>\n",
       "      <td>1</td>\n",
       "      <td>0</td>\n",
       "      <td>0</td>\n",
       "      <td>0</td>\n",
       "      <td>0</td>\n",
       "      <td>0</td>\n",
       "    </tr>\n",
       "  </tbody>\n",
       "</table>\n",
       "</div>"
      ],
      "text/plain": [
       "   dickory dock  do trick  dock the  few word  hickory dickory  lot word  \\\n",
       "0             0         1         0         1                0         1   \n",
       "1             1         0         1         0                1         0   \n",
       "\n",
       "   mouse ran  ran up  say lot  the clock  the mouse  time say  up the  \\\n",
       "0          0       0        1          0          0         1       0   \n",
       "1          1       1        0          1          1         0       1   \n",
       "\n",
       "   wase time  when few  why wase  word do  word when  \n",
       "0          1         1         1        1          1  \n",
       "1          0         0         0        0          0  "
      ]
     },
     "execution_count": 45,
     "metadata": {},
     "output_type": "execute_result"
    }
   ],
   "source": [
    "bv = CountVectorizer(ngram_range=(2,2))\n",
    "bv_matrix = bv.fit_transform([s1, s2])\n",
    "\n",
    "vocab = bv.get_feature_names_out()\n",
    "df1 = pd.DataFrame(bv_matrix.toarray(), columns=vocab)\n",
    "df1"
   ]
  },
  {
   "cell_type": "code",
   "execution_count": null,
   "id": "e7290a66-7777-4487-8171-939522c8c3ab",
   "metadata": {},
   "outputs": [],
   "source": []
  }
 ],
 "metadata": {
  "kernelspec": {
   "display_name": "Python 3 (ipykernel)",
   "language": "python",
   "name": "python3"
  },
  "language_info": {
   "codemirror_mode": {
    "name": "ipython",
    "version": 3
   },
   "file_extension": ".py",
   "mimetype": "text/x-python",
   "name": "python",
   "nbconvert_exporter": "python",
   "pygments_lexer": "ipython3",
   "version": "3.10.2"
  }
 },
 "nbformat": 4,
 "nbformat_minor": 5
}
